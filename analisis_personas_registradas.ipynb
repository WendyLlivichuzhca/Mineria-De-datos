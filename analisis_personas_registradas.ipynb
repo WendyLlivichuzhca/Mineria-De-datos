{
 "cells": [
  {
   "cell_type": "markdown",
   "id": "10891347",
   "metadata": {},
   "source": [
    "# Análisis de Personas Registradas\n",
    "Este notebook presenta un análisis visual de los datos proporcionados sobre personas registradas."
   ]
  },
  {
   "cell_type": "code",
   "execution_count": null,
   "id": "93740f2a",
   "metadata": {},
   "outputs": [
    {
     "data": {
      "text/html": [
       "<div>\n",
       "<style scoped>\n",
       "    .dataframe tbody tr th:only-of-type {\n",
       "        vertical-align: middle;\n",
       "    }\n",
       "\n",
       "    .dataframe tbody tr th {\n",
       "        vertical-align: top;\n",
       "    }\n",
       "\n",
       "    .dataframe thead th {\n",
       "        text-align: right;\n",
       "    }\n",
       "</style>\n",
       "<table border=\"1\" class=\"dataframe\">\n",
       "  <thead>\n",
       "    <tr style=\"text-align: right;\">\n",
       "      <th></th>\n",
       "      <th>#</th>\n",
       "      <th>Nombres</th>\n",
       "      <th>Apellidos</th>\n",
       "      <th>Celular</th>\n",
       "      <th>Correo</th>\n",
       "      <th>Institución</th>\n",
       "      <th>Dominio_Correo</th>\n",
       "      <th>Tipo_Correo</th>\n",
       "    </tr>\n",
       "  </thead>\n",
       "  <tbody>\n",
       "    <tr>\n",
       "      <th>0</th>\n",
       "      <td>1</td>\n",
       "      <td>Jhon</td>\n",
       "      <td>Orellana</td>\n",
       "      <td>986462209</td>\n",
       "      <td>xavierpu120@gmail.com</td>\n",
       "      <td>Herlinda Toral</td>\n",
       "      <td>gmail.com</td>\n",
       "      <td>Personal</td>\n",
       "    </tr>\n",
       "    <tr>\n",
       "      <th>1</th>\n",
       "      <td>2</td>\n",
       "      <td>Jordy</td>\n",
       "      <td>Morocho</td>\n",
       "      <td>979242639</td>\n",
       "      <td>jordy@gmail.com</td>\n",
       "      <td>Herlinda Toral</td>\n",
       "      <td>gmail.com</td>\n",
       "      <td>Personal</td>\n",
       "    </tr>\n",
       "    <tr>\n",
       "      <th>2</th>\n",
       "      <td>3</td>\n",
       "      <td>Nathalia</td>\n",
       "      <td>Baculima</td>\n",
       "      <td>968070301</td>\n",
       "      <td>baculimanathalia@gmail.com</td>\n",
       "      <td>Octavio</td>\n",
       "      <td>gmail.com</td>\n",
       "      <td>Personal</td>\n",
       "    </tr>\n",
       "    <tr>\n",
       "      <th>3</th>\n",
       "      <td>4</td>\n",
       "      <td>Leslie</td>\n",
       "      <td>Urgilés</td>\n",
       "      <td>997552748</td>\n",
       "      <td>nf521651@gmail.com</td>\n",
       "      <td>Herlinda Toral</td>\n",
       "      <td>gmail.com</td>\n",
       "      <td>Personal</td>\n",
       "    </tr>\n",
       "    <tr>\n",
       "      <th>4</th>\n",
       "      <td>5</td>\n",
       "      <td>Dennise</td>\n",
       "      <td>Calle</td>\n",
       "      <td>992138232</td>\n",
       "      <td>calledenise034@gmail.com</td>\n",
       "      <td>Herlinda Toral</td>\n",
       "      <td>gmail.com</td>\n",
       "      <td>Personal</td>\n",
       "    </tr>\n",
       "  </tbody>\n",
       "</table>\n",
       "</div>"
      ],
      "text/plain": [
       "   #   Nombres Apellidos    Celular                      Correo  \\\n",
       "0  1     Jhon   Orellana  986462209       xavierpu120@gmail.com   \n",
       "1  2     Jordy   Morocho  979242639             jordy@gmail.com   \n",
       "2  3  Nathalia  Baculima  968070301  baculimanathalia@gmail.com   \n",
       "3  4    Leslie  Urgilés   997552748          nf521651@gmail.com   \n",
       "4  5   Dennise     Calle  992138232    calledenise034@gmail.com   \n",
       "\n",
       "       Institución Dominio_Correo Tipo_Correo  \n",
       "0  Herlinda Toral       gmail.com    Personal  \n",
       "1  Herlinda Toral       gmail.com    Personal  \n",
       "2          Octavio      gmail.com    Personal  \n",
       "3  Herlinda Toral       gmail.com    Personal  \n",
       "4  Herlinda Toral       gmail.com    Personal  "
      ]
     },
     "execution_count": 1,
     "metadata": {},
     "output_type": "execute_result"
    }
   ],
   "source": [
    "import pandas as pd\n",
    "import matplotlib.pyplot as plt\n",
    "\n",
    "\n",
    "# Cargar datos\n",
    "df = pd.read_excel(\"personas_registradas.xlsx\")\n",
    "\n",
    "# Extraer dominio de correo\n",
    "df['Dominio_Correo'] = df['Correo'].str.extract(r'@([\\w\\.-]+)')\n",
    "df['Tipo_Correo'] = df['Dominio_Correo'].apply(lambda x: 'Institucional' if 'edu' in str(x) else 'Personal')\n",
    "\n",
    "df.head()"
   ]
  },
  {
   "cell_type": "markdown",
   "id": "cefe5407",
   "metadata": {},
   "source": [
    "## Registros por Institución"
   ]
  },
  {
   "cell_type": "code",
   "execution_count": null,
   "id": "a35501f7",
   "metadata": {},
   "outputs": [],
   "source": [
    "instituciones = df['Institución'].value_counts()\n",
    "instituciones.plot(kind='bar', figsize=(10,6), color='skyblue')\n",
    "plt.title('Registros por Institución')\n",
    "plt.xlabel('Institución')\n",
    "plt.ylabel('Cantidad de Personas')\n",
    "plt.xticks(rotation=45)\n",
    "plt.tight_layout()\n",
    "plt.show()"
   ]
  },
  {
   "cell_type": "markdown",
   "id": "8c8bc1fc",
   "metadata": {},
   "source": [
    "## Distribución por Dominio de Correo"
   ]
  },
  {
   "cell_type": "code",
   "execution_count": null,
   "id": "dcebcc35",
   "metadata": {},
   "outputs": [],
   "source": [
    "dominios = df['Dominio_Correo'].value_counts()\n",
    "dominios.head(5).plot(kind='pie', autopct='%1.1f%%', figsize=(6,6), shadow=True)\n",
    "plt.title('Distribución de Dominios de Correo (Top 5)')\n",
    "plt.ylabel('')\n",
    "plt.show()"
   ]
  },
  {
   "cell_type": "markdown",
   "id": "bd36f6f0",
   "metadata": {},
   "source": [
    "## Top 10 Nombres más Comunes"
   ]
  },
  {
   "cell_type": "code",
   "execution_count": null,
   "id": "bb047d63",
   "metadata": {},
   "outputs": [],
   "source": [
    "nombres = df['Nombres'].value_counts().head(10)\n",
    "nombres.plot(kind='barh', color='lightgreen')\n",
    "plt.title('Top 10 Nombres más Comunes')\n",
    "plt.xlabel('Frecuencia')\n",
    "plt.gca().invert_yaxis()\n",
    "plt.tight_layout()\n",
    "plt.show()"
   ]
  },
  {
   "cell_type": "markdown",
   "id": "1e8e2bf3",
   "metadata": {},
   "source": [
    "## Comparación de Tipo de Correo por Institución"
   ]
  },
  {
   "cell_type": "code",
   "execution_count": null,
   "id": "24d8786f",
   "metadata": {},
   "outputs": [],
   "source": [
    "agrupado = df.groupby(['Institución', 'Tipo_Correo']).size().unstack().fillna(0)\n",
    "agrupado.plot(kind='bar', stacked=False, figsize=(10,6))\n",
    "plt.title('Tipo de Correo por Institución')\n",
    "plt.ylabel('Cantidad')\n",
    "plt.xticks(rotation=45)\n",
    "plt.tight_layout()\n",
    "plt.show()"
   ]
  }
 ],
 "metadata": {
  "kernelspec": {
   "display_name": "base",
   "language": "python",
   "name": "python3"
  },
  "language_info": {
   "codemirror_mode": {
    "name": "ipython",
    "version": 3
   },
   "file_extension": ".py",
   "mimetype": "text/x-python",
   "name": "python",
   "nbconvert_exporter": "python",
   "pygments_lexer": "ipython3",
   "version": "3.12.7"
  }
 },
 "nbformat": 4,
 "nbformat_minor": 5
}
